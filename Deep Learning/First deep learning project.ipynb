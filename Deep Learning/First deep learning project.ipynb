{
 "cells": [
  {
   "cell_type": "code",
   "execution_count": 1,
   "metadata": {},
   "outputs": [],
   "source": [
    "import tensorflow as tf\n",
    "import numpy as np"
   ]
  },
  {
   "cell_type": "code",
   "execution_count": 2,
   "metadata": {},
   "outputs": [
    {
     "data": {
      "text/plain": [
       "'2.0.0'"
      ]
     },
     "execution_count": 2,
     "metadata": {},
     "output_type": "execute_result"
    }
   ],
   "source": [
    "tf.__version__"
   ]
  },
  {
   "cell_type": "markdown",
   "metadata": {},
   "source": [
    "# টেন্সর-ফ্লো ২.x সিলেকশন\n",
    "\n",
    "পুরো বইকে কনসিস্টেন্ট রাখার জন্য আমরা নিচের এই কোড ব্যবহার করবো যাতে গুগল কোলাব/জুপিটার নোটবুকে টেন্সর-ফ্লো ২.x সিলেক্ট করতে পারে। রিসেট করে নিন গুগল কোলাবের সব রানটাইম"
   ]
  },
  {
   "cell_type": "code",
   "execution_count": 6,
   "metadata": {},
   "outputs": [],
   "source": [
    "try:\n",
    "  # শুধুমাত্র টেন্সর-ফ্লো ২.x ব্যবহার করবো \n",
    "  %tensorflow_version 2.x\n",
    "except Exception:\n",
    "  pass\n",
    "\n",
    "import tensorflow as tf\n",
    "keras = tf.keras"
   ]
  },
  {
   "cell_type": "code",
   "execution_count": 7,
   "metadata": {},
   "outputs": [
    {
     "name": "stdout",
     "output_type": "stream",
     "text": [
      "44.0 Chirps in 15 Seconds = 26.944 degrees Celsius (C)\n",
      "46.4 Chirps in 15 Seconds = 25.833 degrees Celsius (C)\n",
      "43.6 Chirps in 15 Seconds = 25.556 degrees Celsius (C)\n",
      "35.0 Chirps in 15 Seconds = 23.056 degrees Celsius (C)\n",
      "35.0 Chirps in 15 Seconds = 21.389 degrees Celsius (C)\n",
      "32.6 Chirps in 15 Seconds = 20.0 degrees Celsius (C)\n",
      "28.9 Chirps in 15 Seconds = 18.889 degrees Celsius (C)\n",
      "27.7 Chirps in 15 Seconds = 18.333 degrees Celsius (C)\n",
      "25.5 Chirps in 15 Seconds = 16.389 degrees Celsius (C)\n",
      "20.375 Chirps in 15 Seconds = 13.889 degrees Celsius (C)\n",
      "12.5 Chirps in 15 Seconds = 12.778 degrees Celsius (C)\n",
      "37.0 Chirps in 15 Seconds = 24.583 degrees Celsius (C)\n",
      "37.5 Chirps in 15 Seconds = 23.333 degrees Celsius (C)\n",
      "36.5 Chirps in 15 Seconds = 23.333 degrees Celsius (C)\n",
      "36.2 Chirps in 15 Seconds = 22.5 degrees Celsius (C)\n",
      "33.0 Chirps in 15 Seconds = 18.889 degrees Celsius (C)\n",
      "43.0 Chirps in 15 Seconds = 25.278 degrees Celsius (C)\n",
      "46.0 Chirps in 15 Seconds = 25.833 degrees Celsius (C)\n",
      "29.0 Chirps in 15 Seconds = 20.278 degrees Celsius (C)\n",
      "31.7 Chirps in 15 Seconds = 20.278 degrees Celsius (C)\n",
      "31.0 Chirps in 15 Seconds = 20.0 degrees Celsius (C)\n",
      "28.75 Chirps in 15 Seconds = 18.889 degrees Celsius (C)\n",
      "23.5 Chirps in 15 Seconds = 15.0 degrees Celsius (C)\n",
      "32.4 Chirps in 15 Seconds = 21.111 degrees Celsius (C)\n",
      "31.0 Chirps in 15 Seconds = 20.556 degrees Celsius (C)\n",
      "29.5 Chirps in 15 Seconds = 19.444 degrees Celsius (C)\n",
      "22.5 Chirps in 15 Seconds = 16.25 degrees Celsius (C)\n",
      "20.6 Chirps in 15 Seconds = 14.722 degrees Celsius (C)\n",
      "35.0 Chirps in 15 Seconds = 22.222 degrees Celsius (C)\n",
      "33.1 Chirps in 15 Seconds = 21.667 degrees Celsius (C)\n",
      "31.5 Chirps in 15 Seconds = 20.556 degrees Celsius (C)\n",
      "28.8 Chirps in 15 Seconds = 19.167 degrees Celsius (C)\n",
      "21.3 Chirps in 15 Seconds = 15.556 degrees Celsius (C)\n",
      "37.8 Chirps in 15 Seconds = 23.889 degrees Celsius (C)\n",
      "37.0 Chirps in 15 Seconds = 22.917 degrees Celsius (C)\n",
      "37.1 Chirps in 15 Seconds = 22.5 degrees Celsius (C)\n",
      "36.2 Chirps in 15 Seconds = 21.111 degrees Celsius (C)\n",
      "31.4 Chirps in 15 Seconds = 19.722 degrees Celsius (C)\n",
      "30.2 Chirps in 15 Seconds = 18.889 degrees Celsius (C)\n",
      "31.3 Chirps in 15 Seconds = 20.556 degrees Celsius (C)\n",
      "26.1 Chirps in 15 Seconds = 17.222 degrees Celsius (C)\n",
      "25.2 Chirps in 15 Seconds = 17.222 degrees Celsius (C)\n",
      "23.66 Chirps in 15 Seconds = 16.111 degrees Celsius (C)\n",
      "22.25 Chirps in 15 Seconds = 16.667 degrees Celsius (C)\n",
      "17.5 Chirps in 15 Seconds = 13.611 degrees Celsius (C)\n",
      "15.5 Chirps in 15 Seconds = 12.778 degrees Celsius (C)\n",
      "14.75 Chirps in 15 Seconds = 11.111 degrees Celsius (C)\n",
      "15.0 Chirps in 15 Seconds = 11.667 degrees Celsius (C)\n",
      "14.0 Chirps in 15 Seconds = 10.0 degrees Celsius (C)\n",
      "18.5 Chirps in 15 Seconds = 11.111 degrees Celsius (C)\n",
      "27.7 Chirps in 15 Seconds = 18.333 degrees Celsius (C)\n",
      "26.0 Chirps in 15 Seconds = 17.222 degrees Celsius (C)\n",
      "21.7 Chirps in 15 Seconds = 15.0 degrees Celsius (C)\n",
      "12.5 Chirps in 15 Seconds = 10.417 degrees Celsius (C)\n",
      "12.5 Chirps in 15 Seconds = 9.5833 degrees Celsius (C)\n"
     ]
    }
   ],
   "source": [
    "chips_15s    = np.array([44.000,46.400,43.600,35.000,35.000,32.600,28.900,27.700,25.500,20.375,12.500,37.000,37.500,36.500,36.200,33.000,43.000,46.000,29.000,31.700,31.000,28.750,23.500,32.400,31.000,29.500,22.500,20.600,35.000,33.100,31.500,28.800,21.300,37.800,37.000,37.100,36.200,31.400,30.200,31.300,26.100,25.200,23.660,22.250,17.500,15.500,14.750,15.000,14.000,18.500,27.700,26.000,21.700,12.500,12.500],  dtype=float)\n",
    "temp_celsius = np.array([26.944, 25.833, 25.556, 23.056, 21.389, 20.000, 18.889, 18.333, 16.389, 13.889, 12.778, 24.583, 23.333, 23.333, 22.500, 18.889, 25.278, 25.833, 20.278, 20.278, 20.000, 18.889, 15.000, 21.111, 20.556, 19.444, 16.250, 14.722, 22.222, 21.667, 20.556, 19.167, 15.556, 23.889, 22.917, 22.500, 21.111, 19.722, 18.889, 20.556, 17.222, 17.222, 16.111, 16.667, 13.611, 12.778, 11.111, 11.667, 10.000, 11.111, 18.333, 17.222, 15.000, 10.417, 9.5833],  dtype=float)\n",
    "\n",
    "for i,c in enumerate(chips_15s):\n",
    "  print(\"{} Chirps in 15 Seconds = {} degrees Celsius (C)\".format(c, temp_celsius[i]))"
   ]
  },
  {
   "cell_type": "code",
   "execution_count": 10,
   "metadata": {},
   "outputs": [
    {
     "data": {
      "image/png": "[encoded data removed]",
      "text/plain": [
       "<Figure size 432x288 with 1 Axes>"
      ]
     },
     "metadata": {},
     "output_type": "display_data"
    }
   ],
   "source": [
    "import matplotlib.pyplot as plt\n",
    "import seaborn as sns\n",
    "sns.set(style='darkgrid')\n",
    "X = chips_15s\n",
    "y = temp_celsius\n",
    "\n",
    "plt.scatter(X, y, color='red')\n",
    "\n",
    "plt.show()"
   ]
  },
  {
   "cell_type": "code",
   "execution_count": 11,
   "metadata": {},
   "outputs": [
    {
     "ename": "SyntaxError",
     "evalue": "positional argument follows keyword argument (<ipython-input-11-034b20700bc5>, line 1)",
     "output_type": "error",
     "traceback": [
      "\u001b[0;36m  File \u001b[0;32m\"<ipython-input-11-034b20700bc5>\"\u001b[0;36m, line \u001b[0;32m1\u001b[0m\n\u001b[0;31m    model = tf.keras.Sequential(tf.keras.layers.Dense(units=1, input_shape[1]))\u001b[0m\n\u001b[0m                                                              ^\u001b[0m\n\u001b[0;31mSyntaxError\u001b[0m\u001b[0;31m:\u001b[0m positional argument follows keyword argument\n"
     ]
    }
   ],
   "source": [
    "model = tf.keras.Sequential(tf.keras.layers.Dense(units=1, input_shape[1]))\n"
   ]
  },
  {
   "cell_type": "code",
   "execution_count": null,
   "metadata": {},
   "outputs": [],
   "source": []
  }
 ],
 "metadata": {
  "kernelspec": {
   "display_name": "Python 3",
   "language": "python",
   "name": "python3"
  },
  "language_info": {
   "codemirror_mode": {
    "name": "ipython",
    "version": 3
   },
   "file_extension": ".py",
   "mimetype": "text/x-python",
   "name": "python",
   "nbconvert_exporter": "python",
   "pygments_lexer": "ipython3",
   "version": "3.7.7"
  }
 },
 "nbformat": 4,
 "nbformat_minor": 4
}
