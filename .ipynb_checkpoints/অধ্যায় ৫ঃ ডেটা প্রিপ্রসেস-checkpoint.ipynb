{
 "cells": [
  {
   "cell_type": "markdown",
   "metadata": {},
   "source": [
    "# অধ্যায় ৫ঃ ডেটা প্রিপ্রসেসিং\n",
    "\n",
    "মেশিন লার্নিং অ্যালগরিদম গুলো ডাটা থেকে শিখে। তাই ডাটা কেমন ভাবে তৈরি করতে হয় যেন মেশিন মেশিন কাটা থেকে খুব ভালোভাবে শিখতে পারে। অধ্যায়ে আমরা জানব কিভাবে মেশিন লার্নিং অ্যালগরিদম জন্য ডাটা প্রস্তুত করতে হয়। এই অধ্যায়ে আমরা যা যা শিখব\n",
    "\n",
    "১) Rescale data\n",
    "\n",
    "2) Standardize data\n",
    "\n",
    "3) Normalize data\n",
    "\n",
    "4) Binarize data"
   ]
  },
  {
   "cell_type": "markdown",
   "metadata": {},
   "source": [
    "## ৪.১  Rescale data\n",
    "\n",
    "যখন আমাদের ডাটা সেটে  বিভিন্ন স্কেলের ডাটা থাকে তখন ডাটা সেটটিকে   রিস্কেল  করতে হয় ।  রিস্কেল  করা মানে ডাটা সেটের ডেটাগুলোকে একটি নির্দিষ্ট স্কেলের(0 থেকে ১ ) মধ্যে আনা.  এটি অপটিমাইজেশন অ্যালগোরিদমের জন্য খুবই ভালভাবে কাজ করে যেমন গ্রেডিয়েন্ট ডিসেন্ট আলগরিদম।  এছাড়াও নিউরাল নেটওয়ার্ক এবং  k-nearest neighbors এলগোরিদমের জন্য ভালো ভাবে কাজ করে।  আমরা Scikit-learn এর MinMaxScaler  ক্লাস ব্যবহার করে ডেটাকে রিস্কেল করতে পারি।"
   ]
  },
  {
   "cell_type": "code",
   "execution_count": null,
   "metadata": {},
   "outputs": [],
   "source": [
    "# Import libraries\n",
    "import pandas as pd\n",
    "import numpy as np\n",
    "from numpy import set_printoptions\n",
    "from sklearn.preprocessing import MinMaxScaler\n",
    "\n",
    "# load dataset\n",
    "dataset = pd.read_csv('diabetes.csv')\n",
    "array = dataset.values\n",
    "# separate array into input and output components\n",
    "X = array[:,0:8]\n",
    "Y = array[:,8]\n",
    "scaler = MinMaxScaler(feature_range=(0, 1))\n",
    "rescaledX = scaler.fit_transform(X)\n",
    "# summarize transformed data\n",
    "set_printoptions(precision=3)"
   ]
  }
 ],
 "metadata": {
  "kernelspec": {
   "display_name": "Python 3",
   "language": "python",
   "name": "python3"
  },
  "language_info": {
   "codemirror_mode": {
    "name": "ipython",
    "version": 3
   },
   "file_extension": ".py",
   "mimetype": "text/x-python",
   "name": "python",
   "nbconvert_exporter": "python",
   "pygments_lexer": "ipython3",
   "version": "3.7.7"
  }
 },
 "nbformat": 4,
 "nbformat_minor": 4
}
