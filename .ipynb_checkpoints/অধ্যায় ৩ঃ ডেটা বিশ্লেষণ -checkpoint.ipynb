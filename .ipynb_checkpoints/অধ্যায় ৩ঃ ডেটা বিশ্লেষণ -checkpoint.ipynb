{
 "cells": [
  {
   "cell_type": "markdown",
   "metadata": {},
   "source": [
    "# অধ্যায় ৩ঃ ডেটা বিশ্লেষণ "
   ]
  },
  {
   "cell_type": "markdown",
   "metadata": {},
   "source": [
    "গত দুই অধ্যায়ে আমরা মেশিন লার্নিং মডেল তৈরির ধাপসমূহের সম্পর্কে জেনেছি এবং টুকটাক পরিসংখ্যান সম্পর্কে জেনেছি। এই অধ্যায়\n",
    "থেকে আমরা মেশিন লার্নিং প্রেডিক্টিভ মডেল তৈরির ধাপসমূহ সম্পর্কে বিস্তারিত জানব। এই অধ্যায় শেষে যা যা শিখব।\n",
    "\n",
    "১) কিভাবে ডেটাসেট লোড করতে হয়।\n",
    "\n",
    "২) কিভাবে ডেটাসেট থেকে ডেটা দেখতে হয়। \n",
    "\n",
    "৩) কিভাবে ডেটসেটের ডায়মেনশন বের করতে হয়। \n",
    "৪) \n"
   ]
  },
  {
   "cell_type": "markdown",
   "metadata": {},
   "source": [
    "## ৩.১ বর্ননামূলক পরিসংখ্যানের মাধ্যমে ডেটার সম্পর্কে জানা "
   ]
  },
  {
   "cell_type": "markdown",
   "metadata": {},
   "source": [
    "Descriptive statistics হচ্ছে ডেটাসেটের ভ্যারিয়েবলগুলোকে বর্ননা বা ব্যাখ্যা করার পদ্বতি। অর্থাৎ যার মাধ্যমে ডেটাসেটের সম্পর্কে সার্বিক ধারনা পাওয়া যায়। মেশিনকে শেখানোর আগে ডেটা সম্পর্কে পর্যাপ্ত জ্ঞান থাকা প্রয়োজন। কেননা ডেটাসেটকে কোন কোন পদ্বতিতে পরিবর্তন করে মেশিন লার্নিং এলগোরিদমের জন্য তৈরি করতে হবে তা এই ধাপে সিদ্বান্ত নিতে হবে। "
   ]
  },
  {
   "cell_type": "markdown",
   "metadata": {},
   "source": [
    "### ৩.১.১ ডেটাসেট লোড করা "
   ]
  },
  {
   "cell_type": "code",
   "execution_count": 2,
   "metadata": {},
   "outputs": [],
   "source": [
    "# Import libraries\n",
    "import pandas as pd\n",
    "import numpy as np"
   ]
  },
  {
   "cell_type": "code",
   "execution_count": 6,
   "metadata": {},
   "outputs": [],
   "source": [
    "# load dataset\n",
    "dataset = pd.read_csv('diabetes.csv')"
   ]
  },
  {
   "cell_type": "markdown",
   "metadata": {},
   "source": [
    "### ৩.১.২ ডেটাসেট থেকে ডেটা দেখা \n",
    "লোড করা ডেটাসেট থেকে ডেটা দেখা এবং ডেটা সম্পর্কে ধারনা নেওয়া। যেমনঃ কি কি ফিচার রয়েছে??, ফিচারগুলোর ভ্যালুগুলো কি একই স্কেলে আছে নাকি ভিন্ন ভিন্ন স্কেলে আছে। যদি ভিন্ন ভিন্ন স্কেলে থাকে তাহলে দেটা প্রিপ্রসেসিং ধাপে তাদেরকে রিস্কেল করতে করতে হবে। "
   ]
  },
  {
   "cell_type": "code",
   "execution_count": 7,
   "metadata": {},
   "outputs": [
    {
     "data": {
      "text/html": [
       "<div>\n",
       "<style scoped>\n",
       "    .dataframe tbody tr th:only-of-type {\n",
       "        vertical-align: middle;\n",
       "    }\n",
       "\n",
       "    .dataframe tbody tr th {\n",
       "        vertical-align: top;\n",
       "    }\n",
       "\n",
       "    .dataframe thead th {\n",
       "        text-align: right;\n",
       "    }\n",
       "</style>\n",
       "<table border=\"1\" class=\"dataframe\">\n",
       "  <thead>\n",
       "    <tr style=\"text-align: right;\">\n",
       "      <th></th>\n",
       "      <th>Pregnancies</th>\n",
       "      <th>Glucose</th>\n",
       "      <th>BloodPressure</th>\n",
       "      <th>SkinThickness</th>\n",
       "      <th>Insulin</th>\n",
       "      <th>BMI</th>\n",
       "      <th>DiabetesPedigreeFunction</th>\n",
       "      <th>Age</th>\n",
       "      <th>Outcome</th>\n",
       "    </tr>\n",
       "  </thead>\n",
       "  <tbody>\n",
       "    <tr>\n",
       "      <th>0</th>\n",
       "      <td>6</td>\n",
       "      <td>148</td>\n",
       "      <td>72</td>\n",
       "      <td>35</td>\n",
       "      <td>0</td>\n",
       "      <td>33.6</td>\n",
       "      <td>0.627</td>\n",
       "      <td>50</td>\n",
       "      <td>1</td>\n",
       "    </tr>\n",
       "    <tr>\n",
       "      <th>1</th>\n",
       "      <td>1</td>\n",
       "      <td>85</td>\n",
       "      <td>66</td>\n",
       "      <td>29</td>\n",
       "      <td>0</td>\n",
       "      <td>26.6</td>\n",
       "      <td>0.351</td>\n",
       "      <td>31</td>\n",
       "      <td>0</td>\n",
       "    </tr>\n",
       "    <tr>\n",
       "      <th>2</th>\n",
       "      <td>8</td>\n",
       "      <td>183</td>\n",
       "      <td>64</td>\n",
       "      <td>0</td>\n",
       "      <td>0</td>\n",
       "      <td>23.3</td>\n",
       "      <td>0.672</td>\n",
       "      <td>32</td>\n",
       "      <td>1</td>\n",
       "    </tr>\n",
       "    <tr>\n",
       "      <th>3</th>\n",
       "      <td>1</td>\n",
       "      <td>89</td>\n",
       "      <td>66</td>\n",
       "      <td>23</td>\n",
       "      <td>94</td>\n",
       "      <td>28.1</td>\n",
       "      <td>0.167</td>\n",
       "      <td>21</td>\n",
       "      <td>0</td>\n",
       "    </tr>\n",
       "    <tr>\n",
       "      <th>4</th>\n",
       "      <td>0</td>\n",
       "      <td>137</td>\n",
       "      <td>40</td>\n",
       "      <td>35</td>\n",
       "      <td>168</td>\n",
       "      <td>43.1</td>\n",
       "      <td>2.288</td>\n",
       "      <td>33</td>\n",
       "      <td>1</td>\n",
       "    </tr>\n",
       "    <tr>\n",
       "      <th>5</th>\n",
       "      <td>5</td>\n",
       "      <td>116</td>\n",
       "      <td>74</td>\n",
       "      <td>0</td>\n",
       "      <td>0</td>\n",
       "      <td>25.6</td>\n",
       "      <td>0.201</td>\n",
       "      <td>30</td>\n",
       "      <td>0</td>\n",
       "    </tr>\n",
       "    <tr>\n",
       "      <th>6</th>\n",
       "      <td>3</td>\n",
       "      <td>78</td>\n",
       "      <td>50</td>\n",
       "      <td>32</td>\n",
       "      <td>88</td>\n",
       "      <td>31.0</td>\n",
       "      <td>0.248</td>\n",
       "      <td>26</td>\n",
       "      <td>1</td>\n",
       "    </tr>\n",
       "    <tr>\n",
       "      <th>7</th>\n",
       "      <td>10</td>\n",
       "      <td>115</td>\n",
       "      <td>0</td>\n",
       "      <td>0</td>\n",
       "      <td>0</td>\n",
       "      <td>35.3</td>\n",
       "      <td>0.134</td>\n",
       "      <td>29</td>\n",
       "      <td>0</td>\n",
       "    </tr>\n",
       "    <tr>\n",
       "      <th>8</th>\n",
       "      <td>2</td>\n",
       "      <td>197</td>\n",
       "      <td>70</td>\n",
       "      <td>45</td>\n",
       "      <td>543</td>\n",
       "      <td>30.5</td>\n",
       "      <td>0.158</td>\n",
       "      <td>53</td>\n",
       "      <td>1</td>\n",
       "    </tr>\n",
       "    <tr>\n",
       "      <th>9</th>\n",
       "      <td>8</td>\n",
       "      <td>125</td>\n",
       "      <td>96</td>\n",
       "      <td>0</td>\n",
       "      <td>0</td>\n",
       "      <td>0.0</td>\n",
       "      <td>0.232</td>\n",
       "      <td>54</td>\n",
       "      <td>1</td>\n",
       "    </tr>\n",
       "  </tbody>\n",
       "</table>\n",
       "</div>"
      ],
      "text/plain": [
       "   Pregnancies  Glucose  BloodPressure  SkinThickness  Insulin   BMI  \\\n",
       "0            6      148             72             35        0  33.6   \n",
       "1            1       85             66             29        0  26.6   \n",
       "2            8      183             64              0        0  23.3   \n",
       "3            1       89             66             23       94  28.1   \n",
       "4            0      137             40             35      168  43.1   \n",
       "5            5      116             74              0        0  25.6   \n",
       "6            3       78             50             32       88  31.0   \n",
       "7           10      115              0              0        0  35.3   \n",
       "8            2      197             70             45      543  30.5   \n",
       "9            8      125             96              0        0   0.0   \n",
       "\n",
       "   DiabetesPedigreeFunction  Age  Outcome  \n",
       "0                     0.627   50        1  \n",
       "1                     0.351   31        0  \n",
       "2                     0.672   32        1  \n",
       "3                     0.167   21        0  \n",
       "4                     2.288   33        1  \n",
       "5                     0.201   30        0  \n",
       "6                     0.248   26        1  \n",
       "7                     0.134   29        0  \n",
       "8                     0.158   53        1  \n",
       "9                     0.232   54        1  "
      ]
     },
     "execution_count": 7,
     "metadata": {},
     "output_type": "execute_result"
    }
   ],
   "source": [
    "dataset.head(10)"
   ]
  },
  {
   "cell_type": "markdown",
   "metadata": {},
   "source": [
    "### ৩.১.৩ ডেটাসেটের  ডাইমেনশন সম্পর্কে জানা \n",
    "ডেটাসেটের  ডাইমেনশন বলতে ডেটাসেটটিতে কয়টি ফিচার এবং কয়েটি অবজারভেশন রয়েছে তা জানা। ডেটাসেটের ডাইমেশন সম্পর্কে  জানা খুবই জরুরী কারণ - \n",
    "\n",
    "১) ডেটাসেটে যদি অবজারভেশন অর্থাৎ সারি কম থাকে তাহলে মেশিন ঠিকঠাকমত শিখতে পারবে না। আবার যদি বেশি থাকে তাহলে মেশিনকে ট্রেইন করাতে অনেক সময় লাগবে। \n",
    "\n",
    "২) ডেটাসেটে যদি অনেকবেশি ফিচার থাকে অর্থাৎ কলাম  থাকে তাহলে মেশিন ভালোভাবে শিখতে পারবে না। কারণ এর মধ্যে অনেক ফিচার থাকে যা মেশিনকে ডেটাগুলোর মধ্যে সম্পর্ক তৈরি করতে কনফিউজ করে দেয়।  "
   ]
  },
  {
   "cell_type": "code",
   "execution_count": 9,
   "metadata": {},
   "outputs": [
    {
     "data": {
      "text/plain": [
       "(768, 9)"
      ]
     },
     "execution_count": 9,
     "metadata": {},
     "output_type": "execute_result"
    }
   ],
   "source": [
    "# Dimensions of your data\n",
    "dataset.shape"
   ]
  },
  {
   "cell_type": "markdown",
   "metadata": {},
   "source": [
    "আমরা দেখতে পাচ্ছি ডেটাসেটির ৭৬৮ টি অবজারভেশন এবং ৯ টি ফিচার রয়েছে। মেশিনকে শেখানোর জন্য ডেটাসেটটি মোটামুটি উপযোগী। "
   ]
  },
  {
   "cell_type": "markdown",
   "metadata": {},
   "source": [
    "### ৩.১.৪ ফিচারগুলোর ডেটাটাইপ সম্পর্কে জানা \n",
    "প্রতিটা ফিচারের ডেটা টাইপ সম্পর্কে জানা প্রযোজন কেননা কোন ফিচারের ডেটাটাইপ যদি স্ট্রিং হয় তাহলে মেশিন তা থেকে শিখতে পারবে।\n",
    "কারণ মেশিন শুধুমাত্র সংখ্যা চেনে। তাই ডেটাটাইপ স্ট্রিং হলে তাকে ডেটা প্রিপ্রসেসিং টেকনিক ব্যবহার করে সংখ্যায় পরির্তন করে নিতে হবে। "
   ]
  },
  {
   "cell_type": "code",
   "execution_count": 11,
   "metadata": {},
   "outputs": [
    {
     "name": "stdout",
     "output_type": "stream",
     "text": [
      "Pregnancies                   int64\n",
      "Glucose                       int64\n",
      "BloodPressure                 int64\n",
      "SkinThickness                 int64\n",
      "Insulin                       int64\n",
      "BMI                         float64\n",
      "DiabetesPedigreeFunction    float64\n",
      "Age                           int64\n",
      "Outcome                       int64\n",
      "dtype: object\n"
     ]
    }
   ],
   "source": [
    "# Data Types for Each Attribute\n",
    "types = dataset.dtypes\n",
    "print(types)"
   ]
  },
  {
   "cell_type": "markdown",
   "metadata": {},
   "source": [
    "এখানে বেশিরভাগ ফিচারের ডেটা টাইপ integer এবং float। কোন স্ট্রিং ডেটাটাইপ নেই। "
   ]
  },
  {
   "cell_type": "markdown",
   "metadata": {},
   "source": [
    "### বর্ননামূলক পরিসংখ্যানের মাধ্যমে ডেটার সম্পর্কে জানা"
   ]
  },
  {
   "cell_type": "markdown",
   "metadata": {},
   "source": [
    "বর্ননামূলক পরিসংখ্যানের(Descriptive statistics) মাধ্যমে ডেটার ভেতরকার খবর দ্রুত এবং ভালোভাবে জানা যায়। pandas এর describe() ফাংশনের মাধ্যমে প্রতিটি ফিচারের ৮ টি statistical properties দেখা যায়। \n",
    "\n",
    "১) count ২) Mean ৩) Standard deviation ৪) Minimum value ৫) 25th percentile ৬) 50th percentile ৭) 75th percentile ৮) Maximum value"
   ]
  },
  {
   "cell_type": "code",
   "execution_count": 12,
   "metadata": {},
   "outputs": [
    {
     "data": {
      "text/html": [
       "<div>\n",
       "<style scoped>\n",
       "    .dataframe tbody tr th:only-of-type {\n",
       "        vertical-align: middle;\n",
       "    }\n",
       "\n",
       "    .dataframe tbody tr th {\n",
       "        vertical-align: top;\n",
       "    }\n",
       "\n",
       "    .dataframe thead th {\n",
       "        text-align: right;\n",
       "    }\n",
       "</style>\n",
       "<table border=\"1\" class=\"dataframe\">\n",
       "  <thead>\n",
       "    <tr style=\"text-align: right;\">\n",
       "      <th></th>\n",
       "      <th>Pregnancies</th>\n",
       "      <th>Glucose</th>\n",
       "      <th>BloodPressure</th>\n",
       "      <th>SkinThickness</th>\n",
       "      <th>Insulin</th>\n",
       "      <th>BMI</th>\n",
       "      <th>DiabetesPedigreeFunction</th>\n",
       "      <th>Age</th>\n",
       "      <th>Outcome</th>\n",
       "    </tr>\n",
       "  </thead>\n",
       "  <tbody>\n",
       "    <tr>\n",
       "      <th>count</th>\n",
       "      <td>768.000000</td>\n",
       "      <td>768.000000</td>\n",
       "      <td>768.000000</td>\n",
       "      <td>768.000000</td>\n",
       "      <td>768.000000</td>\n",
       "      <td>768.000000</td>\n",
       "      <td>768.000000</td>\n",
       "      <td>768.000000</td>\n",
       "      <td>768.000000</td>\n",
       "    </tr>\n",
       "    <tr>\n",
       "      <th>mean</th>\n",
       "      <td>3.845052</td>\n",
       "      <td>120.894531</td>\n",
       "      <td>69.105469</td>\n",
       "      <td>20.536458</td>\n",
       "      <td>79.799479</td>\n",
       "      <td>31.992578</td>\n",
       "      <td>0.471876</td>\n",
       "      <td>33.240885</td>\n",
       "      <td>0.348958</td>\n",
       "    </tr>\n",
       "    <tr>\n",
       "      <th>std</th>\n",
       "      <td>3.369578</td>\n",
       "      <td>31.972618</td>\n",
       "      <td>19.355807</td>\n",
       "      <td>15.952218</td>\n",
       "      <td>115.244002</td>\n",
       "      <td>7.884160</td>\n",
       "      <td>0.331329</td>\n",
       "      <td>11.760232</td>\n",
       "      <td>0.476951</td>\n",
       "    </tr>\n",
       "    <tr>\n",
       "      <th>min</th>\n",
       "      <td>0.000000</td>\n",
       "      <td>0.000000</td>\n",
       "      <td>0.000000</td>\n",
       "      <td>0.000000</td>\n",
       "      <td>0.000000</td>\n",
       "      <td>0.000000</td>\n",
       "      <td>0.078000</td>\n",
       "      <td>21.000000</td>\n",
       "      <td>0.000000</td>\n",
       "    </tr>\n",
       "    <tr>\n",
       "      <th>25%</th>\n",
       "      <td>1.000000</td>\n",
       "      <td>99.000000</td>\n",
       "      <td>62.000000</td>\n",
       "      <td>0.000000</td>\n",
       "      <td>0.000000</td>\n",
       "      <td>27.300000</td>\n",
       "      <td>0.243750</td>\n",
       "      <td>24.000000</td>\n",
       "      <td>0.000000</td>\n",
       "    </tr>\n",
       "    <tr>\n",
       "      <th>50%</th>\n",
       "      <td>3.000000</td>\n",
       "      <td>117.000000</td>\n",
       "      <td>72.000000</td>\n",
       "      <td>23.000000</td>\n",
       "      <td>30.500000</td>\n",
       "      <td>32.000000</td>\n",
       "      <td>0.372500</td>\n",
       "      <td>29.000000</td>\n",
       "      <td>0.000000</td>\n",
       "    </tr>\n",
       "    <tr>\n",
       "      <th>75%</th>\n",
       "      <td>6.000000</td>\n",
       "      <td>140.250000</td>\n",
       "      <td>80.000000</td>\n",
       "      <td>32.000000</td>\n",
       "      <td>127.250000</td>\n",
       "      <td>36.600000</td>\n",
       "      <td>0.626250</td>\n",
       "      <td>41.000000</td>\n",
       "      <td>1.000000</td>\n",
       "    </tr>\n",
       "    <tr>\n",
       "      <th>max</th>\n",
       "      <td>17.000000</td>\n",
       "      <td>199.000000</td>\n",
       "      <td>122.000000</td>\n",
       "      <td>99.000000</td>\n",
       "      <td>846.000000</td>\n",
       "      <td>67.100000</td>\n",
       "      <td>2.420000</td>\n",
       "      <td>81.000000</td>\n",
       "      <td>1.000000</td>\n",
       "    </tr>\n",
       "  </tbody>\n",
       "</table>\n",
       "</div>"
      ],
      "text/plain": [
       "       Pregnancies     Glucose  BloodPressure  SkinThickness     Insulin  \\\n",
       "count   768.000000  768.000000     768.000000     768.000000  768.000000   \n",
       "mean      3.845052  120.894531      69.105469      20.536458   79.799479   \n",
       "std       3.369578   31.972618      19.355807      15.952218  115.244002   \n",
       "min       0.000000    0.000000       0.000000       0.000000    0.000000   \n",
       "25%       1.000000   99.000000      62.000000       0.000000    0.000000   \n",
       "50%       3.000000  117.000000      72.000000      23.000000   30.500000   \n",
       "75%       6.000000  140.250000      80.000000      32.000000  127.250000   \n",
       "max      17.000000  199.000000     122.000000      99.000000  846.000000   \n",
       "\n",
       "              BMI  DiabetesPedigreeFunction         Age     Outcome  \n",
       "count  768.000000                768.000000  768.000000  768.000000  \n",
       "mean    31.992578                  0.471876   33.240885    0.348958  \n",
       "std      7.884160                  0.331329   11.760232    0.476951  \n",
       "min      0.000000                  0.078000   21.000000    0.000000  \n",
       "25%     27.300000                  0.243750   24.000000    0.000000  \n",
       "50%     32.000000                  0.372500   29.000000    0.000000  \n",
       "75%     36.600000                  0.626250   41.000000    1.000000  \n",
       "max     67.100000                  2.420000   81.000000    1.000000  "
      ]
     },
     "execution_count": 12,
     "metadata": {},
     "output_type": "execute_result"
    }
   ],
   "source": [
    "# Descriptive statistics\n",
    "dataset.describe()"
   ]
  },
  {
   "cell_type": "markdown",
   "metadata": {},
   "source": [
    "count দ্বারা আমরা জানতে পারি কতগুলো অবজারভেশন রয়েছে ঐ ফিচারের। এর মাধ্যমে কোন ফিচারের ডেটা মিসিং আছে কি না জানা যায়। ডেটা মিসিং থাকলে তা ডেটা প্রিপ্রসেসিং টেকনিকের মাধ্যমে তা হ্যান্ডেল করতে হবে। \n",
    "আমরা দেখতে পাচ্ছি এখানে কোন ফিচারের ডেটা মিসিং নেই। \n",
    "\n",
    "Mean হচ্ছে ঐ ফিচারের গড় ভ্যালু। যা ঐ ফিচারের ডেটার প্রতিনিধিত্ব করে।\n",
    "\n",
    "std হচ্ছে standard deviation যার মাধ্যমে আমরা ডেটার ভ্যারিয়েশন জানতে পারি। std বেশি হলে বুঝতে হবে ঐ ফিচারের ভ্যালুগুলোর বিস্তার অর্থাৎ একটি ভ্যালুর থেকে আরেকটি ভ্যালুর দূরত্ব বেশি।  এক্ষেত্রে ডেটা প্রসেসিং টেকনিক ব্যবহার করে ব্যপারটি হ্যান্ডেল করতে হবে। std এর মানে -3<std<3 এর মধ্যে হলে ভালো। \n",
    "\n",
    "min এবং max এর ফিচারের ভ্যালুর সবচেয়ে ছোট এবং সবেচেয়ে বেশি মান নির্দেশ করে। এর মাধ্যমে ডেটার রেঞ্জ সম্পর্কে ধারনা পাওয়া যায়। \n",
    "\n",
    "25%, 50%, 75% এর মাধ্যমে জানা যায় ভ্যালুগুলো এর নিচে অবস্থান করছে। যেমন  আমাদের ডেটাসেটের Pregnancies ফিচারের 25% ভ্যালু 1.000000 এর নিচে অবস্থান করছে। \n",
    "\n",
    "তাহলে আমরা Descriptive statistics এর মাধ্যমে ডেটা সম্পর্কে গভীর ধারনা পাই এবং কোন কোন ফিচারকে প্রিপ্রসেসিং করতে হবে  সেই সিদ্বান্ত নেওয়া যায়। "
   ]
  },
  {
   "cell_type": "code",
   "execution_count": null,
   "metadata": {},
   "outputs": [],
   "source": []
  }
 ],
 "metadata": {
  "kernelspec": {
   "display_name": "Python 3",
   "language": "python",
   "name": "python3"
  },
  "language_info": {
   "codemirror_mode": {
    "name": "ipython",
    "version": 3
   },
   "file_extension": ".py",
   "mimetype": "text/x-python",
   "name": "python",
   "nbconvert_exporter": "python",
   "pygments_lexer": "ipython3",
   "version": "3.7.7"
  }
 },
 "nbformat": 4,
 "nbformat_minor": 4
}
